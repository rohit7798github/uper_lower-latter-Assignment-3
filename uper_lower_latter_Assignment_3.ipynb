{
  "nbformat": 4,
  "nbformat_minor": 0,
  "metadata": {
    "colab": {
      "provenance": [],
      "authorship_tag": "ABX9TyNk3/LF6YXZdGsjI/gInRur",
      "include_colab_link": true
    },
    "kernelspec": {
      "name": "python3",
      "display_name": "Python 3"
    },
    "language_info": {
      "name": "python"
    }
  },
  "cells": [
    {
      "cell_type": "markdown",
      "metadata": {
        "id": "view-in-github",
        "colab_type": "text"
      },
      "source": [
        "<a href=\"https://colab.research.google.com/github/rohit7798github/uper_lower-latter-Assignment-3/blob/main/uper_lower_latter_Assignment_3.ipynb\" target=\"_parent\"><img src=\"https://colab.research.google.com/assets/colab-badge.svg\" alt=\"Open In Colab\"/></a>"
      ]
    },
    {
      "cell_type": "code",
      "execution_count": 2,
      "metadata": {
        "colab": {
          "base_uri": "https://localhost:8080/"
        },
        "id": "TRMutYxV-4zU",
        "outputId": "452fcc4e-67d6-4a7f-cbbb-7389ecaa532f"
      },
      "outputs": [
        {
          "output_type": "stream",
          "name": "stdout",
          "text": [
            "Enter any string :'The quick Brow Fox'\n",
            "no. of upper case characters: 3\n",
            "no. of lower case characters: 12\n"
          ]
        }
      ],
      "source": [
        "def fun (str):\n",
        "    upper=0\n",
        "    lower=0\n",
        "    for i in str :\n",
        "        if i.isupper():\n",
        "            upper +=1\n",
        "        elif i.islower():\n",
        "            lower +=1\n",
        "    print('no. of upper case characters:',upper)\n",
        "    print('no. of lower case characters:',lower)\n",
        "\n",
        "s= str(input(\"Enter any string :\"))\n",
        "fun(s)"
      ]
    }
  ]
}